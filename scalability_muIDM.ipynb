{
 "cells": [
  {
   "cell_type": "markdown",
   "metadata": {},
   "source": [
    "# $\\mu$-isometric diffusion maps (muiDM)"
   ]
  },
  {
   "cell_type": "markdown",
   "metadata": {
    "id": "f4suOzDjOjFK"
   },
   "source": [
    "## define functions"
   ]
  },
  {
   "cell_type": "code",
   "execution_count": 1,
   "metadata": {
    "colab": {
     "base_uri": "https://localhost:8080/"
    },
    "executionInfo": {
     "elapsed": 1079,
     "status": "ok",
     "timestamp": 1656067850534,
     "user": {
      "displayName": "HO YU JIE",
      "userId": "00208472700595612474"
     },
     "user_tz": -480
    },
    "id": "4hu7dqnfAwTw",
    "outputId": "57cee4a9-2664-4d02-87c4-7531fa045f05"
   },
   "outputs": [
    {
     "name": "stdout",
     "output_type": "stream",
     "text": [
      "Populating the interactive namespace from numpy and matplotlib\n"
     ]
    }
   ],
   "source": [
    "%pylab inline\n",
    "\n",
    "from scipy.spatial.distance import cdist\n",
    "from scipy.sparse.linalg import svds\n",
    "from numpy.linalg import svd, eigh\n",
    "from numpy.linalg import inv, pinv, norm\n",
    "from numpy.matlib import repmat\n",
    "\n",
    "from tqdm.notebook import tqdm\n",
    "#set_printoptions(formatter={'float': lambda x: \"{0:0.5f}\".format(x)})"
   ]
  },
  {
   "cell_type": "code",
   "execution_count": 2,
   "metadata": {
    "executionInfo": {
     "elapsed": 7,
     "status": "ok",
     "timestamp": 1656065013502,
     "user": {
      "displayName": "HO YU JIE",
      "userId": "00208472700595612474"
     },
     "user_tz": -480
    },
    "id": "A5xnvAtii9V7"
   },
   "outputs": [],
   "source": [
    "def MK(X,Y,sigma):\n",
    "    \n",
    "    dist = cdist(X,Y)\n",
    "\n",
    "    return exp(-dist**2/sigma)"
   ]
  },
  {
   "cell_type": "code",
   "execution_count": 3,
   "metadata": {
    "executionInfo": {
     "elapsed": 9,
     "status": "ok",
     "timestamp": 1656065652322,
     "user": {
      "displayName": "HO YU JIE",
      "userId": "00208472700595612474"
     },
     "user_tz": -480
    },
    "id": "ghSwkKW0i9V9"
   },
   "outputs": [],
   "source": [
    "def DM(X,sigma,dim=6):\n",
    "    n = X.shape[0]\n",
    "    \n",
    "    K = MK(X,X,sigma)    \n",
    "    D = diag(1/sqrt(sum(K,axis=1)))\n",
    "    A = D.dot(K).dot(D)\n",
    "    \n",
    "    U,S,V = svds(A,dim)\n",
    "    \n",
    "    S = S[::-1]\n",
    "    U = U[:,::-1]\n",
    "    \n",
    "    for i in range(dim):\n",
    "        if U[0,i]<0:\n",
    "            U[:,i] = -U[:,i]\n",
    "                        \n",
    "    emb = D.dot(U).dot(diag(S))\n",
    "    \n",
    "    return emb, S"
   ]
  },
  {
   "cell_type": "code",
   "execution_count": 4,
   "metadata": {},
   "outputs": [],
   "source": [
    "def nystrom(X,Y,sample,sigma,dim=6):\n",
    "    n = X.shape[0]\n",
    "    m = Y.shape[0]\n",
    "    \n",
    "    ind1 = sample\n",
    "    ind2 = delete(arange(n),ind1)\n",
    "    ind = hstack((ind1,ind2))\n",
    "\n",
    "    K = MK(X,Y,sigma) \n",
    "    K = K[ind]\n",
    "    D = diag(1/sqrt(sum(K,axis=1)))\n",
    "    Dsm = diag(1/sqrt(sum(K,axis=0)))\n",
    "\n",
    "    Q = D.dot(K).dot(Dsm)\n",
    "    A = Q[:m]\n",
    "    B = Q[m:]\n",
    "    \n",
    "    uu,ss,vv = svd(A)\n",
    "    AA = uu.dot(diag(1/sqrt(ss))).dot(vv)\n",
    "        \n",
    "    SS = A + AA.dot(B.T).dot(B).dot(AA)\n",
    "    \n",
    "    if dim==min(SS.shape):\n",
    "        S,U = eigh(SS)\n",
    "        S = S.real\n",
    "        U = U.real\n",
    "    else:\n",
    "        U,S,VV = svds(SS,dim)\n",
    "    \n",
    "    S = S[::-1]\n",
    "    U = U[:,::-1]*sqrt(n)\n",
    "    for i in range(dim):\n",
    "        if U[0,i]<0:\n",
    "            U[:,i] = -U[:,i]\n",
    "    \n",
    "    V = Q.dot(AA).dot(U).dot(diag(1/sqrt(S)))\n",
    "    V[isinf(V)] = 0\n",
    "    V[isnan(V)] = 0\n",
    "    \n",
    "    emb = D.dot(V).dot(diag(S))\n",
    "    \n",
    "    emb2 = zeros((n,dim))\n",
    "    emb2[ind1] = emb[:m]\n",
    "    emb2[ind2] = emb[m:]\n",
    "    \n",
    "    return emb2"
   ]
  },
  {
   "cell_type": "code",
   "execution_count": 5,
   "metadata": {
    "executionInfo": {
     "elapsed": 5,
     "status": "ok",
     "timestamp": 1656065720779,
     "user": {
      "displayName": "HO YU JIE",
      "userId": "00208472700595612474"
     },
     "user_tz": -480
    },
    "id": "HGlldC4ii9WA"
   },
   "outputs": [],
   "source": [
    "def muIDM(X,sigma,mu,flag=0):\n",
    "    \n",
    "    n = X.shape[0]\n",
    "    \n",
    "    if flag:\n",
    "        permu = permutation(arange(n))\n",
    "        X = X[permu]\n",
    "    \n",
    "    ind = [0]\n",
    "    err = []\n",
    "    \n",
    "    emb = nystrom(X,X[ind],ind,sigma,dim=len(ind))\n",
    "    \n",
    "    for i in tqdm(range(1,n)):\n",
    "        indi = ind+[i]\n",
    "        embi = nystrom(X,X[indi],indi,sigma,dim=len(indi))\n",
    "        \n",
    "        T = pinv(emb[ind]).dot(embi[ind])\n",
    "                \n",
    "        err.append(norm(emb[i].dot(T) - embi[i]))\n",
    "                \n",
    "        if err[-1]>mu/2:\n",
    "            ind = indi\n",
    "            emb = embi\n",
    "    \n",
    "    if flag:\n",
    "        tmp  = permu[1:]\n",
    "        tmp1 = zeros((n,len(ind)))\n",
    "        tmp2 = array([0.0]*n)\n",
    "        tmp1[permu] = emb\n",
    "        tmp2[permu[1:]] = array(err)\n",
    "                \n",
    "        emb = tmp1\n",
    "        err = delete(tmp2,permu[0])\n",
    "        ind = sort(permu[ind])\n",
    "                \n",
    "    return emb, array(ind), array(err)"
   ]
  },
  {
   "cell_type": "markdown",
   "metadata": {
    "id": "8Ae3WQSeOqvx"
   },
   "source": [
    "### setting"
   ]
  },
  {
   "cell_type": "code",
   "execution_count": 6,
   "metadata": {
    "executionInfo": {
     "elapsed": 5,
     "status": "ok",
     "timestamp": 1656065721086,
     "user": {
      "displayName": "HO YU JIE",
      "userId": "00208472700595612474"
     },
     "user_tz": -480
    },
    "id": "V9FsfwuAi9WC"
   },
   "outputs": [],
   "source": [
    "n = 500\n",
    "X = vstack((linspace(0,1,n),[0]*n)).T\n",
    "\n",
    "sigma = 0.1\n",
    "mu = 1e-6"
   ]
  },
  {
   "cell_type": "code",
   "execution_count": 25,
   "metadata": {},
   "outputs": [
    {
     "data": {
      "image/png": "[encoded data removed]",
      "text/plain": [
       "<Figure size 1296x432 with 1 Axes>"
      ]
     },
     "metadata": {
      "needs_background": "light"
     },
     "output_type": "display_data"
    }
   ],
   "source": [
    "plot(X[:,0],X[:,1], color='r')\n",
    "plt.gcf().set_size_inches(18,6)\n",
    "plt.title('data set')\n",
    "plt.show()"
   ]
  },
  {
   "cell_type": "markdown",
   "metadata": {
    "id": "5z64VPyvOduW"
   },
   "source": [
    "### mu-isometric DM"
   ]
  },
  {
   "cell_type": "code",
   "execution_count": 7,
   "metadata": {
    "colab": {
     "base_uri": "https://localhost:8080/",
     "height": 49,
     "referenced_widgets": [
      "77057a1ec9db4295a1c1ff26ad16251d",
      "38ed3592636f45bb9271eac97382231f",
      "052e20b5d7f148e69fcb1c1c67ca8e46",
      "35fd64bcc07e463b81316e04b1ca1051",
      "06aba719814b4525aa6b4379bfa6ad12",
      "e7d2955406aa450ebc3f83b70baa8e12",
      "073f30d06c0348c6abae356ae827acdc",
      "b3e44fc3ee6d4476bc14a60bc1d3f91d",
      "5abe87f4ec3849729ff4a928769a321c",
      "c29993b160ef486aad9afa3a37d6d173",
      "ccf01fa0a82c47ef9d2d7a17246824e4"
     ]
    },
    "executionInfo": {
     "elapsed": 11267,
     "status": "ok",
     "timestamp": 1656065733984,
     "user": {
      "displayName": "HO YU JIE",
      "userId": "00208472700595612474"
     },
     "user_tz": -480
    },
    "id": "nYpe009mxjjz",
    "outputId": "70e8ae51-48a7-4265-c7ec-c532ed67f862"
   },
   "outputs": [
    {
     "data": {
      "application/vnd.jupyter.widget-view+json": {
       "model_id": "0e69f767a7884dcdb226f6e2b4dc5b6a",
       "version_major": 2,
       "version_minor": 0
      },
      "text/plain": [
       "  0%|          | 0/499 [00:00<?, ?it/s]"
      ]
     },
     "metadata": {},
     "output_type": "display_data"
    },
    {
     "name": "stderr",
     "output_type": "stream",
     "text": [
      "/Users/joyax/opt/anaconda3/envs/mine/lib/python3.7/site-packages/ipykernel_launcher.py:36: RuntimeWarning: invalid value encountered in sqrt\n"
     ]
    }
   ],
   "source": [
    "emb, ind, err = muIDM(X,sigma,mu)"
   ]
  },
  {
   "cell_type": "code",
   "execution_count": 8,
   "metadata": {
    "colab": {
     "base_uri": "https://localhost:8080/",
     "height": 390
    },
    "executionInfo": {
     "elapsed": 491,
     "status": "ok",
     "timestamp": 1656065761387,
     "user": {
      "displayName": "HO YU JIE",
      "userId": "00208472700595612474"
     },
     "user_tz": -480
    },
    "id": "ojTaZk32i9WE",
    "outputId": "caf26da9-df7b-4aa7-e3ac-73a8ec339dbf"
   },
   "outputs": [
    {
     "data": {
      "image/png": "[encoded data removed]",
      "text/plain": [
       "<Figure size 432x432 with 1 Axes>"
      ]
     },
     "metadata": {
      "needs_background": "light"
     },
     "output_type": "display_data"
    }
   ],
   "source": [
    "plot(emb[:,1],emb[:,2], color='r')\n",
    "plt.gcf().set_size_inches(6,6)\n",
    "plt.title('mu-isometric DM')\n",
    "plt.show()"
   ]
  },
  {
   "cell_type": "code",
   "execution_count": 9,
   "metadata": {
    "colab": {
     "base_uri": "https://localhost:8080/",
     "height": 319
    },
    "executionInfo": {
     "elapsed": 622,
     "status": "ok",
     "timestamp": 1656066597104,
     "user": {
      "displayName": "HO YU JIE",
      "userId": "00208472700595612474"
     },
     "user_tz": -480
    },
    "id": "gsrKRZg_kXOn",
    "outputId": "dcc86150-a90e-43e5-d4a1-b504f43ec360"
   },
   "outputs": [
    {
     "name": "stdout",
     "output_type": "stream",
     "text": [
      "landmark set size:  65\n"
     ]
    },
    {
     "data": {
      "image/png": "[encoded data removed]",
      "text/plain": [
       "<Figure size 1296x432 with 1 Axes>"
      ]
     },
     "metadata": {
      "needs_background": "light"
     },
     "output_type": "display_data"
    }
   ],
   "source": [
    "print('landmark set size: ',len(ind))\n",
    "err = array(err)\n",
    "plot(arange(n-1),err,color='k')\n",
    "\n",
    "tmp = argwhere(err>mu/2)\n",
    "tmp = tmp.reshape(1,size(tmp))[0].tolist()\n",
    "scatter(tmp,err[tmp],color='r',s=20)\n",
    "\n",
    "plt.gcf().set_size_inches(18,6)\n",
    "plt.title('error')\n",
    "plt.show()"
   ]
  },
  {
   "cell_type": "markdown",
   "metadata": {},
   "source": [
    "### (check if our result align with nystrom embedding using the chosen subset)"
   ]
  },
  {
   "cell_type": "code",
   "execution_count": 10,
   "metadata": {},
   "outputs": [
    {
     "name": "stderr",
     "output_type": "stream",
     "text": [
      "/Users/joyax/opt/anaconda3/envs/mine/lib/python3.7/site-packages/ipykernel_launcher.py:36: RuntimeWarning: divide by zero encountered in true_divide\n"
     ]
    }
   ],
   "source": [
    "embnys = nystrom(X,X[ind],ind,sigma,dim=25)"
   ]
  },
  {
   "cell_type": "code",
   "execution_count": 13,
   "metadata": {},
   "outputs": [
    {
     "data": {
      "image/png": "[encoded data removed]",
      "text/plain": [
       "<Figure size 432x432 with 1 Axes>"
      ]
     },
     "metadata": {
      "needs_background": "light"
     },
     "output_type": "display_data"
    }
   ],
   "source": [
    "plot(-embnys[:,1],embnys[:,2], color='r')\n",
    "plt.gcf().set_size_inches(6,6)\n",
    "plt.title('Nystrom')\n",
    "plt.show()"
   ]
  },
  {
   "cell_type": "markdown",
   "metadata": {},
   "source": [
    "### mu-isometric DM (first randomly permute our data set)"
   ]
  },
  {
   "cell_type": "code",
   "execution_count": 14,
   "metadata": {},
   "outputs": [
    {
     "data": {
      "application/vnd.jupyter.widget-view+json": {
       "model_id": "d63f4272b9134a4a88f25119142e9e7a",
       "version_major": 2,
       "version_minor": 0
      },
      "text/plain": [
       "  0%|          | 0/499 [00:00<?, ?it/s]"
      ]
     },
     "metadata": {},
     "output_type": "display_data"
    },
    {
     "name": "stderr",
     "output_type": "stream",
     "text": [
      "/Users/joyax/opt/anaconda3/envs/mine/lib/python3.7/site-packages/ipykernel_launcher.py:36: RuntimeWarning: invalid value encountered in sqrt\n"
     ]
    }
   ],
   "source": [
    "emb2, ind2, err2 = muIDM(X,sigma,mu,flag=1)"
   ]
  },
  {
   "cell_type": "code",
   "execution_count": 15,
   "metadata": {},
   "outputs": [
    {
     "data": {
      "image/png": "[encoded data removed]",
      "text/plain": [
       "<Figure size 432x432 with 1 Axes>"
      ]
     },
     "metadata": {
      "needs_background": "light"
     },
     "output_type": "display_data"
    }
   ],
   "source": [
    "plot(emb2[:,1],emb2[:,2], color='r')\n",
    "plt.gcf().set_size_inches(6,6)\n",
    "plt.title('mu-isometric DM')\n",
    "plt.show()"
   ]
  },
  {
   "cell_type": "code",
   "execution_count": 16,
   "metadata": {},
   "outputs": [
    {
     "name": "stdout",
     "output_type": "stream",
     "text": [
      "landmark set size:  35\n"
     ]
    },
    {
     "data": {
      "image/png": "[encoded data removed]",
      "text/plain": [
       "<Figure size 1296x432 with 1 Axes>"
      ]
     },
     "metadata": {
      "needs_background": "light"
     },
     "output_type": "display_data"
    }
   ],
   "source": [
    "print('landmark set size: ',len(ind2))\n",
    "err2 = array(err2)\n",
    "plot(arange(n-1),err2,color='k')\n",
    "\n",
    "tmp = argwhere(err2>mu/2)\n",
    "tmp = tmp.reshape(1,size(tmp))[0].tolist()\n",
    "scatter(tmp,err2[tmp],color='r',s=20)\n",
    "\n",
    "plt.gcf().set_size_inches(18,6)\n",
    "plt.title('error')\n",
    "plt.show()"
   ]
  },
  {
   "cell_type": "markdown",
   "metadata": {},
   "source": [
    "### (check if our result align with nystrom embedding using the chosen subset)"
   ]
  },
  {
   "cell_type": "code",
   "execution_count": 17,
   "metadata": {},
   "outputs": [
    {
     "name": "stderr",
     "output_type": "stream",
     "text": [
      "/Users/joyax/opt/anaconda3/envs/mine/lib/python3.7/site-packages/ipykernel_launcher.py:36: RuntimeWarning: divide by zero encountered in true_divide\n"
     ]
    }
   ],
   "source": [
    "embnys2 = nystrom(X,X[ind2],ind2,sigma,dim=25)"
   ]
  },
  {
   "cell_type": "code",
   "execution_count": 18,
   "metadata": {},
   "outputs": [
    {
     "data": {
      "image/png": "[encoded data removed]",
      "text/plain": [
       "<Figure size 432x432 with 1 Axes>"
      ]
     },
     "metadata": {
      "needs_background": "light"
     },
     "output_type": "display_data"
    }
   ],
   "source": [
    "plot(embnys2[:,1],embnys2[:,2], color='r')\n",
    "plt.gcf().set_size_inches(6,6)\n",
    "plt.title('Nystrom')\n",
    "plt.show()"
   ]
  },
  {
   "cell_type": "markdown",
   "metadata": {},
   "source": [
    "## Nystrom with uniformly selected landmarks"
   ]
  },
  {
   "cell_type": "code",
   "execution_count": 19,
   "metadata": {},
   "outputs": [
    {
     "name": "stderr",
     "output_type": "stream",
     "text": [
      "/Users/joyax/opt/anaconda3/envs/mine/lib/python3.7/site-packages/ipykernel_launcher.py:36: RuntimeWarning: divide by zero encountered in true_divide\n"
     ]
    }
   ],
   "source": [
    "m = 50\n",
    "indu = arange(n)[::int(ceil(n/m))][:m]\n",
    "\n",
    "embnys3 = nystrom(X,X[indu],indu,sigma,dim=25)"
   ]
  },
  {
   "cell_type": "code",
   "execution_count": 20,
   "metadata": {},
   "outputs": [
    {
     "data": {
      "image/png": "[encoded data removed]",
      "text/plain": [
       "<Figure size 432x432 with 1 Axes>"
      ]
     },
     "metadata": {
      "needs_background": "light"
     },
     "output_type": "display_data"
    }
   ],
   "source": [
    "plot(embnys3[:,1],embnys3[:,2], color='r')\n",
    "#plot(emb2[:,1],emb2[:,2], color='b', label='original DM')\n",
    "\n",
    "plt.gcf().set_size_inches(6,6)\n",
    "plt.title('Nystrom')\n",
    "plt.show()"
   ]
  },
  {
   "cell_type": "markdown",
   "metadata": {},
   "source": [
    "## original DM"
   ]
  },
  {
   "cell_type": "code",
   "execution_count": 21,
   "metadata": {},
   "outputs": [],
   "source": [
    "embdm,_ = DM(X,sigma)"
   ]
  },
  {
   "cell_type": "code",
   "execution_count": 22,
   "metadata": {},
   "outputs": [
    {
     "data": {
      "image/png": "[encoded data removed]",
      "text/plain": [
       "<Figure size 432x432 with 1 Axes>"
      ]
     },
     "metadata": {
      "needs_background": "light"
     },
     "output_type": "display_data"
    }
   ],
   "source": [
    "plot(embdm[:,1],embdm[:,2], color='r')\n",
    "plt.gcf().set_size_inches(6,6)\n",
    "plt.title('DM')\n",
    "plt.show()"
   ]
  },
  {
   "cell_type": "code",
   "execution_count": null,
   "metadata": {},
   "outputs": [],
   "source": []
  }
 ],
 "metadata": {
  "accelerator": "GPU",
  "colab": {
   "collapsed_sections": [],
   "name": "muIDM.ipynb",
   "provenance": [],
   "toc_visible": true
  },
  "gpuClass": "standard",
  "kernelspec": {
   "display_name": "Python 3",
   "language": "python",
   "name": "python3"
  },
  "language_info": {
   "codemirror_mode": {
    "name": "ipython",
    "version": 3
   },
   "file_extension": ".py",
   "mimetype": "text/x-python",
   "name": "python",
   "nbconvert_exporter": "python",
   "pygments_lexer": "ipython3",
   "version": "3.7.10"
  },
  "widgets": {
   "application/vnd.jupyter.widget-state+json": {
    "052e20b5d7f148e69fcb1c1c67ca8e46": {
     "model_module": "@jupyter-widgets/controls",
     "model_module_version": "1.5.0",
     "model_name": "FloatProgressModel",
     "state": {
      "_dom_classes": [],
      "_model_module": "@jupyter-widgets/controls",
      "_model_module_version": "1.5.0",
      "_model_name": "FloatProgressModel",
      "_view_count": null,
      "_view_module": "@jupyter-widgets/controls",
      "_view_module_version": "1.5.0",
      "_view_name": "ProgressView",
      "bar_style": "success",
      "description": "",
      "description_tooltip": null,
      "layout": "IPY_MODEL_b3e44fc3ee6d4476bc14a60bc1d3f91d",
      "max": 499,
      "min": 0,
      "orientation": "horizontal",
      "style": "IPY_MODEL_5abe87f4ec3849729ff4a928769a321c",
      "value": 499
     }
    },
    "06aba719814b4525aa6b4379bfa6ad12": {
     "model_module": "@jupyter-widgets/base",
     "model_module_version": "1.2.0",
     "model_name": "LayoutModel",
     "state": {
      "_model_module": "@jupyter-widgets/base",
      "_model_module_version": "1.2.0",
      "_model_name": "LayoutModel",
      "_view_count": null,
      "_view_module": "@jupyter-widgets/base",
      "_view_module_version": "1.2.0",
      "_view_name": "LayoutView",
      "align_content": null,
      "align_items": null,
      "align_self": null,
      "border": null,
      "bottom": null,
      "display": null,
      "flex": null,
      "flex_flow": null,
      "grid_area": null,
      "grid_auto_columns": null,
      "grid_auto_flow": null,
      "grid_auto_rows": null,
      "grid_column": null,
      "grid_gap": null,
      "grid_row": null,
      "grid_template_areas": null,
      "grid_template_columns": null,
      "grid_template_rows": null,
      "height": null,
      "justify_content": null,
      "justify_items": null,
      "left": null,
      "margin": null,
      "max_height": null,
      "max_width": null,
      "min_height": null,
      "min_width": null,
      "object_fit": null,
      "object_position": null,
      "order": null,
      "overflow": null,
      "overflow_x": null,
      "overflow_y": null,
      "padding": null,
      "right": null,
      "top": null,
      "visibility": null,
      "width": null
     }
    },
    "073f30d06c0348c6abae356ae827acdc": {
     "model_module": "@jupyter-widgets/controls",
     "model_module_version": "1.5.0",
     "model_name": "DescriptionStyleModel",
     "state": {
      "_model_module": "@jupyter-widgets/controls",
      "_model_module_version": "1.5.0",
      "_model_name": "DescriptionStyleModel",
      "_view_count": null,
      "_view_module": "@jupyter-widgets/base",
      "_view_module_version": "1.2.0",
      "_view_name": "StyleView",
      "description_width": ""
     }
    },
    "35fd64bcc07e463b81316e04b1ca1051": {
     "model_module": "@jupyter-widgets/controls",
     "model_module_version": "1.5.0",
     "model_name": "HTMLModel",
     "state": {
      "_dom_classes": [],
      "_model_module": "@jupyter-widgets/controls",
      "_model_module_version": "1.5.0",
      "_model_name": "HTMLModel",
      "_view_count": null,
      "_view_module": "@jupyter-widgets/controls",
      "_view_module_version": "1.5.0",
      "_view_name": "HTMLView",
      "description": "",
      "description_tooltip": null,
      "layout": "IPY_MODEL_c29993b160ef486aad9afa3a37d6d173",
      "placeholder": "​",
      "style": "IPY_MODEL_ccf01fa0a82c47ef9d2d7a17246824e4",
      "value": " 499/499 [00:11&lt;00:00, 10.54it/s]"
     }
    },
    "38ed3592636f45bb9271eac97382231f": {
     "model_module": "@jupyter-widgets/controls",
     "model_module_version": "1.5.0",
     "model_name": "HTMLModel",
     "state": {
      "_dom_classes": [],
      "_model_module": "@jupyter-widgets/controls",
      "_model_module_version": "1.5.0",
      "_model_name": "HTMLModel",
      "_view_count": null,
      "_view_module": "@jupyter-widgets/controls",
      "_view_module_version": "1.5.0",
      "_view_name": "HTMLView",
      "description": "",
      "description_tooltip": null,
      "layout": "IPY_MODEL_e7d2955406aa450ebc3f83b70baa8e12",
      "placeholder": "​",
      "style": "IPY_MODEL_073f30d06c0348c6abae356ae827acdc",
      "value": "100%"
     }
    },
    "5abe87f4ec3849729ff4a928769a321c": {
     "model_module": "@jupyter-widgets/controls",
     "model_module_version": "1.5.0",
     "model_name": "ProgressStyleModel",
     "state": {
      "_model_module": "@jupyter-widgets/controls",
      "_model_module_version": "1.5.0",
      "_model_name": "ProgressStyleModel",
      "_view_count": null,
      "_view_module": "@jupyter-widgets/base",
      "_view_module_version": "1.2.0",
      "_view_name": "StyleView",
      "bar_color": null,
      "description_width": ""
     }
    },
    "77057a1ec9db4295a1c1ff26ad16251d": {
     "model_module": "@jupyter-widgets/controls",
     "model_module_version": "1.5.0",
     "model_name": "HBoxModel",
     "state": {
      "_dom_classes": [],
      "_model_module": "@jupyter-widgets/controls",
      "_model_module_version": "1.5.0",
      "_model_name": "HBoxModel",
      "_view_count": null,
      "_view_module": "@jupyter-widgets/controls",
      "_view_module_version": "1.5.0",
      "_view_name": "HBoxView",
      "box_style": "",
      "children": [
       "IPY_MODEL_38ed3592636f45bb9271eac97382231f",
       "IPY_MODEL_052e20b5d7f148e69fcb1c1c67ca8e46",
       "IPY_MODEL_35fd64bcc07e463b81316e04b1ca1051"
      ],
      "layout": "IPY_MODEL_06aba719814b4525aa6b4379bfa6ad12"
     }
    },
    "b3e44fc3ee6d4476bc14a60bc1d3f91d": {
     "model_module": "@jupyter-widgets/base",
     "model_module_version": "1.2.0",
     "model_name": "LayoutModel",
     "state": {
      "_model_module": "@jupyter-widgets/base",
      "_model_module_version": "1.2.0",
      "_model_name": "LayoutModel",
      "_view_count": null,
      "_view_module": "@jupyter-widgets/base",
      "_view_module_version": "1.2.0",
      "_view_name": "LayoutView",
      "align_content": null,
      "align_items": null,
      "align_self": null,
      "border": null,
      "bottom": null,
      "display": null,
      "flex": null,
      "flex_flow": null,
      "grid_area": null,
      "grid_auto_columns": null,
      "grid_auto_flow": null,
      "grid_auto_rows": null,
      "grid_column": null,
      "grid_gap": null,
      "grid_row": null,
      "grid_template_areas": null,
      "grid_template_columns": null,
      "grid_template_rows": null,
      "height": null,
      "justify_content": null,
      "justify_items": null,
      "left": null,
      "margin": null,
      "max_height": null,
      "max_width": null,
      "min_height": null,
      "min_width": null,
      "object_fit": null,
      "object_position": null,
      "order": null,
      "overflow": null,
      "overflow_x": null,
      "overflow_y": null,
      "padding": null,
      "right": null,
      "top": null,
      "visibility": null,
      "width": null
     }
    },
    "c29993b160ef486aad9afa3a37d6d173": {
     "model_module": "@jupyter-widgets/base",
     "model_module_version": "1.2.0",
     "model_name": "LayoutModel",
     "state": {
      "_model_module": "@jupyter-widgets/base",
      "_model_module_version": "1.2.0",
      "_model_name": "LayoutModel",
      "_view_count": null,
      "_view_module": "@jupyter-widgets/base",
      "_view_module_version": "1.2.0",
      "_view_name": "LayoutView",
      "align_content": null,
      "align_items": null,
      "align_self": null,
      "border": null,
      "bottom": null,
      "display": null,
      "flex": null,
      "flex_flow": null,
      "grid_area": null,
      "grid_auto_columns": null,
      "grid_auto_flow": null,
      "grid_auto_rows": null,
      "grid_column": null,
      "grid_gap": null,
      "grid_row": null,
      "grid_template_areas": null,
      "grid_template_columns": null,
      "grid_template_rows": null,
      "height": null,
      "justify_content": null,
      "justify_items": null,
      "left": null,
      "margin": null,
      "max_height": null,
      "max_width": null,
      "min_height": null,
      "min_width": null,
      "object_fit": null,
      "object_position": null,
      "order": null,
      "overflow": null,
      "overflow_x": null,
      "overflow_y": null,
      "padding": null,
      "right": null,
      "top": null,
      "visibility": null,
      "width": null
     }
    },
    "ccf01fa0a82c47ef9d2d7a17246824e4": {
     "model_module": "@jupyter-widgets/controls",
     "model_module_version": "1.5.0",
     "model_name": "DescriptionStyleModel",
     "state": {
      "_model_module": "@jupyter-widgets/controls",
      "_model_module_version": "1.5.0",
      "_model_name": "DescriptionStyleModel",
      "_view_count": null,
      "_view_module": "@jupyter-widgets/base",
      "_view_module_version": "1.2.0",
      "_view_name": "StyleView",
      "description_width": ""
     }
    },
    "e7d2955406aa450ebc3f83b70baa8e12": {
     "model_module": "@jupyter-widgets/base",
     "model_module_version": "1.2.0",
     "model_name": "LayoutModel",
     "state": {
      "_model_module": "@jupyter-widgets/base",
      "_model_module_version": "1.2.0",
      "_model_name": "LayoutModel",
      "_view_count": null,
      "_view_module": "@jupyter-widgets/base",
      "_view_module_version": "1.2.0",
      "_view_name": "LayoutView",
      "align_content": null,
      "align_items": null,
      "align_self": null,
      "border": null,
      "bottom": null,
      "display": null,
      "flex": null,
      "flex_flow": null,
      "grid_area": null,
      "grid_auto_columns": null,
      "grid_auto_flow": null,
      "grid_auto_rows": null,
      "grid_column": null,
      "grid_gap": null,
      "grid_row": null,
      "grid_template_areas": null,
      "grid_template_columns": null,
      "grid_template_rows": null,
      "height": null,
      "justify_content": null,
      "justify_items": null,
      "left": null,
      "margin": null,
      "max_height": null,
      "max_width": null,
      "min_height": null,
      "min_width": null,
      "object_fit": null,
      "object_position": null,
      "order": null,
      "overflow": null,
      "overflow_x": null,
      "overflow_y": null,
      "padding": null,
      "right": null,
      "top": null,
      "visibility": null,
      "width": null
     }
    }
   }
  }
 },
 "nbformat": 4,
 "nbformat_minor": 1
}
